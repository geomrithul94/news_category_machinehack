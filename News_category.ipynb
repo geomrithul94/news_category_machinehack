{
 "cells": [
  {
   "cell_type": "code",
   "execution_count": 1,
   "metadata": {},
   "outputs": [],
   "source": [
    "import pandas as pd\n",
    "import numpy\n",
    "import nltk"
   ]
  },
  {
   "cell_type": "code",
   "execution_count": 2,
   "metadata": {},
   "outputs": [],
   "source": [
    "news_train=pd.read_excel(\"Data_Train.xlsx\",index=False)"
   ]
  },
  {
   "cell_type": "code",
   "execution_count": 3,
   "metadata": {},
   "outputs": [],
   "source": [
    "section_0=news_train['SECTION']==0\n",
    "section_1=news_train['SECTION']==1\n",
    "section_2=news_train['SECTION']==2\n",
    "section_3=news_train['SECTION']==3"
   ]
  },
  {
   "cell_type": "code",
   "execution_count": 7,
   "metadata": {},
   "outputs": [],
   "source": [
    "class_0=news_train[section_0]\n",
    "class_1=news_train[section_1]\n",
    "class_2=news_train[section_2]\n",
    "class_3=news_train[section_3]"
   ]
  },
  {
   "cell_type": "code",
   "execution_count": 8,
   "metadata": {},
   "outputs": [
    {
     "data": {
      "text/plain": [
       "0       But the most painful was the huge reversal in ...\n",
       "2       Most Asian currencies were trading lower today...\n",
       "4       In global markets, gold prices edged up today ...\n",
       "6       Mumbai: India Inc's external commercial borrow...\n",
       "7       On Wednesday, Federal Reserve Chairman Jerome ...\n",
       "11      So far this year, the rupee has gained 0.7%, w...\n",
       "14      On Tuesday, Powell said a healthy US economy h...\n",
       "17      The company will hive off its ratings business...\n",
       "22      GKN Securities which was barred over misuse of...\n",
       "35      5) Long positions were seen receding in the In...\n",
       "36      6) Some analysts expect volatility to remain h...\n",
       "39      NIIT Ltd holds about 23% stake, while Pawar an...\n",
       "42      China’s March manufacturing purchasing manager...\n",
       "48      5) Polycab India made a blockbuster debut toda...\n",
       "50      Dubai: The Indian rupee’s eye-watering rally h...\n",
       "53      Stock markets welcomed the news, with European...\n",
       "54      Underlining the lack of excess supply, Jakob c...\n",
       "62      Perhaps, lowering goods and services tax on un...\n",
       "64      Asian currencies were trading lower. China Ren...\n",
       "65      Anto: Copper will face more disruptions this y...\n",
       "78      India VIX, or often called the \"fear gauge\", i...\n",
       "106     The successful listing of the Embassy Office P...\n",
       "107     \"We are seeing this positive rally since Febru...\n",
       "110     While there’s general support within the Organ...\n",
       "119     Polycab had launched its IPO on 5 April to rai...\n",
       "123     “I did not come here and appear for the interv...\n",
       "124     In a separate release, the bourse said that it...\n",
       "132     Shares of Emami Ltd rose as much as 15% to ₹40...\n",
       "138     Forex traders say easing crude oil prices, sus...\n",
       "143     Output: China's crude steel output grew 10% in...\n",
       "                              ...                        \n",
       "7439    Asian currencies were trading lower. Malaysian...\n",
       "7440    Mumbai: To safeguard equity investors from ano...\n",
       "7447    But investors welcomed the news, with shares r...\n",
       "7448    Money markets are pricing around a 90 percent ...\n",
       "7450    Meanwhile, those cheering growth in the GFCF c...\n",
       "7454    The notes will mature on 3 April 2024 and all ...\n",
       "7455    \"Military action in Libya, which could disrupt...\n",
       "7459    The 10-year bond yield stood at 7.34%, lower t...\n",
       "7463    Japan's Economy Minister Toshimitsu Motegi sai...\n",
       "7467    \"As a base case scenario, we could expect over...\n",
       "7471    No money was raised through rupee denominated ...\n",
       "7473    So, while the Sensex may have reached touching...\n",
       "7476    India’s foreign inflows are leading Asia, with...\n",
       "7482    9) Infosys and TCS kick off the March quarter ...\n",
       "7483    The dollar index, which measures the US curren...\n",
       "7484    Vinod Nair, Head of Research, Geojit Financial...\n",
       "7490    \"People are sort of looking for direction,\" sa...\n",
       "7501    On Monday, Jet Airways CEO Vinay Dube said tha...\n",
       "7507    “It is better to be over-capitalized than unde...\n",
       "7522    6) Global concerns have also receded, with glo...\n",
       "7524    As per the data, the rights issue had received...\n",
       "7528    3) Foreign institutional investors bought a ne...\n",
       "7531    Moreover, management’s confidence in further 2...\n",
       "7538    In the US, there are signs that the oil produc...\n",
       "7564    Net income at 11 of the 15 Nifty companies tha...\n",
       "7567    So far this year, the rupee has weakened 0.7%,...\n",
       "7569    Demand for shorter-maturity bonds is also high...\n",
       "7575    Equities gained in China as exchanges reopened...\n",
       "7579    US stocks opened lower on Thursday as worries ...\n",
       "7591    In the swap auction conducted on 23 April, the...\n",
       "Name: STORY, Length: 1241, dtype: object"
      ]
     },
     "execution_count": 8,
     "metadata": {},
     "output_type": "execute_result"
    }
   ],
   "source": [
    "news0=class_0.pop(\"STORY\")\n",
    "news1=class_1.pop(\"STORY\")\n",
    "news2=class_2.pop(\"STORY\")\n",
    "news3=class_3.pop(\"STORY\")\n"
   ]
  },
  {
   "cell_type": "code",
   "execution_count": 27,
   "metadata": {},
   "outputs": [
    {
     "data": {
      "text/plain": [
       "0       But the most painful was the huge reversal in ...\n",
       "2       Most Asian currencies were trading lower today...\n",
       "4       In global markets, gold prices edged up today ...\n",
       "6       Mumbai: India Inc's external commercial borrow...\n",
       "7       On Wednesday, Federal Reserve Chairman Jerome ...\n",
       "11      So far this year, the rupee has gained 0.7%, w...\n",
       "14      On Tuesday, Powell said a healthy US economy h...\n",
       "17      The company will hive off its ratings business...\n",
       "22      GKN Securities which was barred over misuse of...\n",
       "35      5) Long positions were seen receding in the In...\n",
       "36      6) Some analysts expect volatility to remain h...\n",
       "39      NIIT Ltd holds about 23% stake, while Pawar an...\n",
       "42      China’s March manufacturing purchasing manager...\n",
       "48      5) Polycab India made a blockbuster debut toda...\n",
       "50      Dubai: The Indian rupee’s eye-watering rally h...\n",
       "53      Stock markets welcomed the news, with European...\n",
       "54      Underlining the lack of excess supply, Jakob c...\n",
       "62      Perhaps, lowering goods and services tax on un...\n",
       "64      Asian currencies were trading lower. China Ren...\n",
       "65      Anto: Copper will face more disruptions this y...\n",
       "78      India VIX, or often called the \"fear gauge\", i...\n",
       "106     The successful listing of the Embassy Office P...\n",
       "107     \"We are seeing this positive rally since Febru...\n",
       "110     While there’s general support within the Organ...\n",
       "119     Polycab had launched its IPO on 5 April to rai...\n",
       "123     “I did not come here and appear for the interv...\n",
       "124     In a separate release, the bourse said that it...\n",
       "132     Shares of Emami Ltd rose as much as 15% to ₹40...\n",
       "138     Forex traders say easing crude oil prices, sus...\n",
       "143     Output: China's crude steel output grew 10% in...\n",
       "                              ...                        \n",
       "7439    Asian currencies were trading lower. Malaysian...\n",
       "7440    Mumbai: To safeguard equity investors from ano...\n",
       "7447    But investors welcomed the news, with shares r...\n",
       "7448    Money markets are pricing around a 90 percent ...\n",
       "7450    Meanwhile, those cheering growth in the GFCF c...\n",
       "7454    The notes will mature on 3 April 2024 and all ...\n",
       "7455    \"Military action in Libya, which could disrupt...\n",
       "7459    The 10-year bond yield stood at 7.34%, lower t...\n",
       "7463    Japan's Economy Minister Toshimitsu Motegi sai...\n",
       "7467    \"As a base case scenario, we could expect over...\n",
       "7471    No money was raised through rupee denominated ...\n",
       "7473    So, while the Sensex may have reached touching...\n",
       "7476    India’s foreign inflows are leading Asia, with...\n",
       "7482    9) Infosys and TCS kick off the March quarter ...\n",
       "7483    The dollar index, which measures the US curren...\n",
       "7484    Vinod Nair, Head of Research, Geojit Financial...\n",
       "7490    \"People are sort of looking for direction,\" sa...\n",
       "7501    On Monday, Jet Airways CEO Vinay Dube said tha...\n",
       "7507    “It is better to be over-capitalized than unde...\n",
       "7522    6) Global concerns have also receded, with glo...\n",
       "7524    As per the data, the rights issue had received...\n",
       "7528    3) Foreign institutional investors bought a ne...\n",
       "7531    Moreover, management’s confidence in further 2...\n",
       "7538    In the US, there are signs that the oil produc...\n",
       "7564    Net income at 11 of the 15 Nifty companies tha...\n",
       "7567    So far this year, the rupee has weakened 0.7%,...\n",
       "7569    Demand for shorter-maturity bonds is also high...\n",
       "7575    Equities gained in China as exchanges reopened...\n",
       "7579    US stocks opened lower on Thursday as worries ...\n",
       "7591    In the swap auction conducted on 23 April, the...\n",
       "Name: STORY, Length: 1241, dtype: object"
      ]
     },
     "execution_count": 27,
     "metadata": {},
     "output_type": "execute_result"
    }
   ],
   "source": [
    "news3.head(-5)"
   ]
  },
  {
   "cell_type": "code",
   "execution_count": 9,
   "metadata": {},
   "outputs": [],
   "source": [
    "def words(num,news):\n",
    "    text=news.iloc[num] \n",
    "    words = nltk.word_tokenize(text)\n",
    "    return words"
   ]
  },
  {
   "cell_type": "code",
   "execution_count": 17,
   "metadata": {},
   "outputs": [
    {
     "data": {
      "text/plain": [
       "['How',\n",
       " 'formidable',\n",
       " 'is',\n",
       " 'the',\n",
       " 'opposition',\n",
       " 'alliance',\n",
       " 'among',\n",
       " 'Congress',\n",
       " ',',\n",
       " 'Jharkhand',\n",
       " 'Mukti',\n",
       " 'Morcha',\n",
       " '(',\n",
       " 'JMM',\n",
       " ')',\n",
       " 'and',\n",
       " 'Jharkhand',\n",
       " 'Vikas',\n",
       " 'Morcha',\n",
       " '(',\n",
       " 'Prajatantrik',\n",
       " ')',\n",
       " '?']"
      ]
     },
     "execution_count": 17,
     "metadata": {},
     "output_type": "execute_result"
    }
   ],
   "source": [
    "words(0,news0)"
   ]
  },
  {
   "cell_type": "code",
   "execution_count": 11,
   "metadata": {},
   "outputs": [],
   "source": [
    "import string"
   ]
  },
  {
   "cell_type": "code",
   "execution_count": 12,
   "metadata": {},
   "outputs": [
    {
     "data": {
      "text/plain": [
       "'!\"#$%&\\'()*+,-./:;<=>?@[\\\\]^_`{|}~'"
      ]
     },
     "execution_count": 12,
     "metadata": {},
     "output_type": "execute_result"
    }
   ],
   "source": [
    "string.punctuation"
   ]
  },
  {
   "cell_type": "code",
   "execution_count": 13,
   "metadata": {},
   "outputs": [],
   "source": [
    "useless_words=nltk.corpus.stopwords.words(\"english\")+list(string.punctuation)"
   ]
  },
  {
   "cell_type": "code",
   "execution_count": 14,
   "metadata": {},
   "outputs": [],
   "source": [
    "def build_bag_of_words_features_filtered(words):\n",
    "    return {\n",
    "        word:1 for word in words \\\n",
    "        if not word in useless_words}"
   ]
  },
  {
   "cell_type": "code",
   "execution_count": 18,
   "metadata": {},
   "outputs": [
    {
     "data": {
      "text/plain": [
       "{'How': 1,\n",
       " 'formidable': 1,\n",
       " 'opposition': 1,\n",
       " 'alliance': 1,\n",
       " 'among': 1,\n",
       " 'Congress': 1,\n",
       " 'Jharkhand': 1,\n",
       " 'Mukti': 1,\n",
       " 'Morcha': 1,\n",
       " 'JMM': 1,\n",
       " 'Vikas': 1,\n",
       " 'Prajatantrik': 1}"
      ]
     },
     "execution_count": 18,
     "metadata": {},
     "output_type": "execute_result"
    }
   ],
   "source": [
    "build_bag_of_words_features_filtered(words(0,news0))\n"
   ]
  },
  {
   "cell_type": "code",
   "execution_count": 20,
   "metadata": {},
   "outputs": [],
   "source": [
    "news0_features = [\n",
    "    (build_bag_of_words_features_filtered(words(f,news0)), '0') \\\n",
    "    for f in range (0,1681)\n",
    "]"
   ]
  },
  {
   "cell_type": "code",
   "execution_count": 21,
   "metadata": {},
   "outputs": [
    {
     "name": "stdout",
     "output_type": "stream",
     "text": [
      "({'As': 1, 'NDA': 1, 'seeks': 1, 're-election': 1, 'agriculture': 1, 'form': 1, 'important': 1, 'part': 1, 'poll': 1, 'narrative': 1, 'BJP': 1, 'banking': 1, 'PM-Kisan': 1, 'scheme': 1, 'MSP': 1, 'promise': 1, 'How': 1, 'rural': 1, 'India': 1, 'votes': 1, 'largely': 1, 'determine': 1, 'fate': 1, 'political': 1, 'parties': 1, 'general': 1, 'elections': 1, 'polling': 1, 'begins': 1, '11': 1, 'April': 1, 'The': 1, 'focus': 1, 'boils': 1, 'simple': 1, 'arithmetics—only': 1, '57': 1, '542': 1, 'parliamentary': 1, 'constituencies': 1, 'urban': 1, 'many': 1, '342': 1, 'seats': 1, 'another': 1, '144': 1, 'semi-urban': 1, 'according': 1, 'numbers': 1, 'based': 1, 'Census': 1, '2011': 1, 'classification': 1, 'A': 1, 'constituency': 1, 'marked': 1, '‘': 1, '’': 1, '75': 1, 'constituents': 1, 'live': 1, 'areas': 1, 'importance': 1, 'fact': 1, 'lost': 1, 'Bharatiya': 1, 'Janata': 1, 'Party': 1, '178': 1, '2014': 1, '66': 1, '2009': 1, 'caution': 1, 'also': 1, 'stems': 1, 'fiasco': 1, '2004': 1, 'Shining': 1, 'campaign': 1, 'backfired': 1, 'spelling': 1, 'losses': 1, 'BJP-led': 1, 'National': 1, 'Democratic': 1, 'Alliance': 1, 'came': 1, 'power': 1, 'May': 1, 'historic': 1, 'mandate': 1, 'seeking': 1, 'Congress-led': 1, 'opposition': 1, 'bidding': 1, 'alliances': 1, 'key': 1, 'states': 1, 'Given': 1, 'stakes': 1, 'held': 1, 'seven': 1, 'phases': 1, 'ending': 1, '19': 1, 'Over': 1, 'past': 1, 'years': 1, 'issues': 1, 'plaguing': 1, 'remained': 1, 'constant': 1, 'Soon': 1, 'Prime': 1, 'Minister': 1, 'Narendra': 1, 'Modi': 1, 'assumed': 1, 'large': 1, 'swathes': 1, 'grip': 1, 'drought': 1, 'lasted': 1, 'two': 1, 'June': 1, '2016': 1, 'crippling': 1, 'gave': 1, 'way': 1, 'three': 1, 'successive': 1, 'normal': 1, 'monsoon': 1, '2016-2018': 1, 'leading': 1, 'record': 1, 'harvests': 1, 'grains': 1, 'horticulture': 1, 'crops': 1, 'resulted': 1, 'sharp': 1, 'plunge': 1, 'crop': 1, 'prices': 1, 'government': 1, 'may': 1, 'set': 1, 'ambitious': 1, 'target': 1, 'double': 1, 'farmers': 1, 'incomes': 1, '2022': 1, '2015-16': 1, 'base': 1, 'year': 1, 'reality': 1, 'farm': 1, 'revenues': 1, 'collapsed': 1, 'due': 1, 'consistent': 1, 'fall': 1, 'In': 1, 'January': 1, 'wholesale': 1, 'food': 1, 'rose': 1, '2.3': 1, 'year-on-year': 1, 'negative': 1, 'territory': 1, 'month': 1, 'August': 1, 'December': 1, '2018': 1}, '0')\n"
     ]
    }
   ],
   "source": [
    "print(news0_features[3])"
   ]
  },
  {
   "cell_type": "code",
   "execution_count": 23,
   "metadata": {},
   "outputs": [],
   "source": [
    "news1_features=[\n",
    "    (build_bag_of_words_features_filtered(words(f,news1)), '1') \\\n",
    "    for f in range (0,2767)\n",
    "]"
   ]
  },
  {
   "cell_type": "code",
   "execution_count": 24,
   "metadata": {},
   "outputs": [
    {
     "data": {
      "text/plain": [
       "({'However': 1,\n",
       "  'reports': 1,\n",
       "  'suggest': 1,\n",
       "  'would': 1,\n",
       "  'another': 1,\n",
       "  'smartphone': 1,\n",
       "  'joining': 1,\n",
       "  'line-up': 1,\n",
       "  'namely': 1,\n",
       "  'Galaxy': 1,\n",
       "  'A60': 1,\n",
       "  'In': 1,\n",
       "  'report': 1,\n",
       "  'GSMArena': 1,\n",
       "  'stated': 1,\n",
       "  'sport': 1,\n",
       "  'looks': 1,\n",
       "  'similar': 1,\n",
       "  'A50': 1,\n",
       "  'might': 1,\n",
       "  'beefier': 1,\n",
       "  'specifications': 1,\n",
       "  'underneath': 1,\n",
       "  'Qualcomm': 1,\n",
       "  \"'s\": 1,\n",
       "  'Snapdragon': 1,\n",
       "  '6150': 1,\n",
       "  'chipset': 1,\n",
       "  'powering': 1,\n",
       "  'This': 1,\n",
       "  'paired': 1,\n",
       "  '8GB': 1,\n",
       "  'RAM': 1,\n",
       "  '128GB': 1,\n",
       "  'internal': 1,\n",
       "  'storage': 1},\n",
       " '1')"
      ]
     },
     "execution_count": 24,
     "metadata": {},
     "output_type": "execute_result"
    }
   ],
   "source": [
    "news1_features[2766]"
   ]
  },
  {
   "cell_type": "code",
   "execution_count": 26,
   "metadata": {},
   "outputs": [],
   "source": [
    "news2_features=[\n",
    "    (build_bag_of_words_features_filtered(words(f,news2)), '2') \\\n",
    "    for f in range (0,1919)\n",
    "]"
   ]
  },
  {
   "cell_type": "code",
   "execution_count": 48,
   "metadata": {},
   "outputs": [],
   "source": [
    "news3_features=[\n",
    "    (build_bag_of_words_features_filtered(words(f,news3)), '3') \\\n",
    "    for f in range (0,1241)\n",
    "]"
   ]
  },
  {
   "cell_type": "code",
   "execution_count": 49,
   "metadata": {},
   "outputs": [
    {
     "data": {
      "text/plain": [
       "({'In': 1,\n",
       "  'swap': 1,\n",
       "  'auction': 1,\n",
       "  'conducted': 1,\n",
       "  '23': 1,\n",
       "  'April': 1,\n",
       "  'Reserve': 1,\n",
       "  'Bank': 1,\n",
       "  'received': 1,\n",
       "  'bids': 1,\n",
       "  'worth': 1,\n",
       "  '18.65': 1,\n",
       "  'billion': 1,\n",
       "  '5': 1,\n",
       "  'offer': 1,\n",
       "  'It': 1,\n",
       "  'accepted': 1,\n",
       "  'five': 1,\n",
       "  'reporting': 1,\n",
       "  'week': 1,\n",
       "  'foreign': 1,\n",
       "  'currency': 1,\n",
       "  'assets': 1,\n",
       "  'major': 1,\n",
       "  'component': 1,\n",
       "  'overall': 1,\n",
       "  'reserves': 1,\n",
       "  'rose': 1,\n",
       "  '4.387': 1,\n",
       "  '390.421': 1},\n",
       " '3')"
      ]
     },
     "execution_count": 49,
     "metadata": {},
     "output_type": "execute_result"
    }
   ],
   "source": [
    "news3_features[1240]"
   ]
  },
  {
   "cell_type": "code",
   "execution_count": 30,
   "metadata": {},
   "outputs": [],
   "source": [
    "from nltk.classify import NaiveBayesClassifier"
   ]
  },
  {
   "cell_type": "code",
   "execution_count": 31,
   "metadata": {},
   "outputs": [],
   "source": [
    "split=1000"
   ]
  },
  {
   "cell_type": "code",
   "execution_count": 32,
   "metadata": {},
   "outputs": [],
   "source": [
    "news_classifier=NaiveBayesClassifier.train(news0_features[:split]+news1_features[:split]+news2_features[:split]+news3_features[:split])"
   ]
  },
  {
   "cell_type": "code",
   "execution_count": 33,
   "metadata": {},
   "outputs": [
    {
     "data": {
      "text/plain": [
       "97.425"
      ]
     },
     "execution_count": 33,
     "metadata": {},
     "output_type": "execute_result"
    }
   ],
   "source": [
    "nltk.classify.util.accuracy(news_classifier,news0_features[:split]+news1_features[:split]+news2_features[:split]+news3_features[:split])*100"
   ]
  },
  {
   "cell_type": "code",
   "execution_count": 34,
   "metadata": {},
   "outputs": [
    {
     "data": {
      "text/plain": [
       "91.1031042128603"
      ]
     },
     "execution_count": 34,
     "metadata": {},
     "output_type": "execute_result"
    }
   ],
   "source": [
    "nltk.classify.util.accuracy(news_classifier,news0_features[split:]+news1_features[split:]+news2_features[split:]+news3_features[split:])*100"
   ]
  },
  {
   "cell_type": "code",
   "execution_count": 36,
   "metadata": {},
   "outputs": [
    {
     "name": "stdout",
     "output_type": "stream",
     "text": [
      "Most Informative Features\n",
      "                   Sabha = 1                   0 : 1      =    231.0 : 1.0\n",
      "                     Lok = 1                   0 : 1      =    228.3 : 1.0\n",
      "                    Modi = 1                   0 : 1      =    193.0 : 1.0\n",
      "                     BJP = 1                   0 : 3      =    186.6 : 1.0\n",
      "                   Party = 1                   0 : 1      =    167.7 : 1.0\n",
      "                minister = 1                   0 : 1      =    159.0 : 1.0\n",
      "                       ” = 1                   2 : 3      =    141.4 : 1.0\n",
      "                Congress = 1                   0 : 2      =    134.1 : 1.0\n",
      "                  Janata = 1                   0 : 1      =    126.3 : 1.0\n",
      "               investors = 1                   3 : 0      =    126.3 : 1.0\n"
     ]
    }
   ],
   "source": [
    "news_classifier.show_most_informative_features()"
   ]
  },
  {
   "cell_type": "code",
   "execution_count": 79,
   "metadata": {},
   "outputs": [],
   "source": [
    "news_test=pd.read_excel(\"Data_Test.xlsx\",index=False)"
   ]
  },
  {
   "cell_type": "code",
   "execution_count": 43,
   "metadata": {},
   "outputs": [],
   "source": [
    "test_news=news_test.pop(\"STORY\")"
   ]
  },
  {
   "cell_type": "code",
   "execution_count": 44,
   "metadata": {},
   "outputs": [
    {
     "data": {
      "text/plain": [
       "0       2019 will see gadgets like gaming smartphones ...\n",
       "1       It has also unleashed a wave of changes in the...\n",
       "2       It can be confusing to pick the right smartpho...\n",
       "3       The mobile application is integrated with a da...\n",
       "4       We have rounded up some of the gadgets that sh...\n",
       "5       \"Imagine if every message you sent was kept wi...\n",
       "6       Positioned along the four sides of the Asus RO...\n",
       "7       In fact, when I applied to USC film school the...\n",
       "8       As spotted by Android Police, Netflix is testi...\n",
       "9       Her moves were immaculately choreographed as s...\n",
       "10      The NCP leadership was under tremendous pressu...\n",
       "11      On the traded volume front, 48.67 lakh shares ...\n",
       "12      They wrote, “Welcoming Makkal Selvan Vijay Set...\n",
       "13      The back of the phone features a 12MP+13MP AI ...\n",
       "14      Talking about how the pressure got to her at o...\n",
       "15      The Xiaomi Play is expected to have a CPU runn...\n",
       "16      In January 2019, the telecom industry added 21...\n",
       "17      Apart from the finalists, the grand finale als...\n",
       "18      \"We expect (a) slew of REIT IPOs to hit the ma...\n",
       "19      According to the same report, Avengers Endgame...\n",
       "20      “Wounded by Lannister riders, they will seek r...\n",
       "21      With so much hatred around, through the show, ...\n",
       "22      The Force Awakens, incidentally, wind up as th...\n",
       "23      The two have been taking potshots at each othe...\n",
       "24      Thakur said “they (authorities) wanted to forc...\n",
       "25      “It’s seriously delightful that our new Dracul...\n",
       "26      (Photo: Diljit Dosanjh/Instagram)Diljit Dosanj...\n",
       "27      Some respite came from the 6% growth in utilit...\n",
       "28      The outlook for India's rupee has deteriorated...\n",
       "29      However, political analysts said that it will ...\n",
       "                              ...                        \n",
       "2713    Step up your cloud game: Cloud computing is a ...\n",
       "2714    The 10-year bond yield stood at 7.341%, as com...\n",
       "2715    While Sony and Microsoft bundle wireless game ...\n",
       "2716    Under the Shopping tab in Google Search, users...\n",
       "2717    After pulling off the action sequences, Ajith ...\n",
       "2718    The party renominated its sitting MP Ranjet Ra...\n",
       "2719    Was there a moment you were bullied?I was very...\n",
       "2720    In Delhi, gold of 99.9% and 99.5% purities fel...\n",
       "2721    Snapchat's controversial and criticised redesi...\n",
       "2722    Of the eight states that faced single-phase po...\n",
       "2723    Facebook pulled 513 Pages, Groups and accounts...\n",
       "2724    One of the most popular female actors in the 1...\n",
       "2725    Two Telugu TV actresses died in a road acciden...\n",
       "2726    Google CEO Sundar Pichai introduced Duplex ear...\n",
       "2727    ”Priyanka was replaced by Katrina Kaif, who wo...\n",
       "2728    The Chinese smartphone manufacturer today intr...\n",
       "2729    Samsung, the world’s largest smartphone maker,...\n",
       "2730    Reliance Securities has revised TCS target pri...\n",
       "2731    Music streaming may not be novel, but it’s sti...\n",
       "2732    Ericsson India Pvt. Ltd had moved the Supreme ...\n",
       "2733    On the other hand, the hotel and airline loyal...\n",
       "2734    The Narendra Modi government simply finished t...\n",
       "2735    The yield on 10-year Treasuries climbed two ba...\n",
       "2736    Section 126 of the Representation of People Ac...\n",
       "2737    With these techniques, machines are also learn...\n",
       "2738    The traffic challan payment is also restricted...\n",
       "2739    “We are not like Western countries, where peop...\n",
       "2740    Further, SBICAP Securities says delivery of th...\n",
       "2741    Two, Raj Thackeray’s Maharashtra Navnirman Sen...\n",
       "2742    Senior leaders of the BJP are using the sugges...\n",
       "Name: STORY, Length: 2743, dtype: object"
      ]
     },
     "execution_count": 44,
     "metadata": {},
     "output_type": "execute_result"
    }
   ],
   "source": [
    "test_news.head(-5)"
   ]
  },
  {
   "cell_type": "code",
   "execution_count": 53,
   "metadata": {},
   "outputs": [],
   "source": [
    "newstest_features=[\n",
    "    (build_bag_of_words_features_filtered(words(f,test_news)))\\\n",
    "    for f in range (0,2743)\n",
    "]"
   ]
  },
  {
   "cell_type": "code",
   "execution_count": 54,
   "metadata": {},
   "outputs": [
    {
     "data": {
      "text/plain": [
       "{'The': 1,\n",
       " 'mobile': 1,\n",
       " 'application': 1,\n",
       " 'integrated': 1,\n",
       " 'dashboard': 1,\n",
       " 'confirm': 1,\n",
       " 'register': 1,\n",
       " 'pre-registered': 1,\n",
       " 'cases': 1,\n",
       " 'enable': 1,\n",
       " 'online': 1,\n",
       " 'interface': 1,\n",
       " 'beneficiary': 1,\n",
       " 'panel': 1,\n",
       " 'lawyer': 1,\n",
       " 'video': 1,\n",
       " 'conferencing': 1,\n",
       " 'telephone': 1,\n",
       " 'facility': 1,\n",
       " 'Prasad': 1,\n",
       " 'said': 1,\n",
       " 'pilot': 1,\n",
       " 'project': 1,\n",
       " 'regard': 1,\n",
       " 'proved': 1,\n",
       " 'useful': 1,\n",
       " '50,000': 1,\n",
       " 'people': 1,\n",
       " 'already': 1,\n",
       " 'availed': 1,\n",
       " 'service': 1,\n",
       " 'Till': 1,\n",
       " 'January': 1,\n",
       " 'resulted': 1,\n",
       " 'enabling': 1,\n",
       " 'legal': 1,\n",
       " 'advice': 1,\n",
       " '49,192': 1,\n",
       " 'beneficiaries': 1,\n",
       " 'include': 1,\n",
       " '36,526': 1,\n",
       " 'Women': 1,\n",
       " '7049': 1,\n",
       " 'SC': 1,\n",
       " '13970': 1,\n",
       " 'ST': 1,\n",
       " '11': 1,\n",
       " 'states': 1,\n",
       " 'including': 1,\n",
       " 'Uttar': 1,\n",
       " 'Pradesh': 1,\n",
       " 'Bihar': 1,\n",
       " 'North-Eastern': 1,\n",
       " 'State': 1,\n",
       " 'Jammu': 1,\n",
       " 'Kashmir': 1,\n",
       " 'law': 1,\n",
       " 'minister': 1,\n",
       " 'view': 1,\n",
       " 'pro': 1,\n",
       " 'bono': 1,\n",
       " 'appearances': 1,\n",
       " 'lawyers': 1,\n",
       " 'considered': 1,\n",
       " 'criteria': 1,\n",
       " 'appointment': 1,\n",
       " 'judges': 1,\n",
       " 'He': 1,\n",
       " 'also': 1,\n",
       " 'need': 1,\n",
       " 'literacy': 1,\n",
       " 'India': 1}"
      ]
     },
     "execution_count": 54,
     "metadata": {},
     "output_type": "execute_result"
    }
   ],
   "source": [
    "newstest_features[3]"
   ]
  },
  {
   "cell_type": "code",
   "execution_count": 69,
   "metadata": {},
   "outputs": [
    {
     "data": {
      "text/plain": [
       "['0', '1', '2', '3']"
      ]
     },
     "execution_count": 69,
     "metadata": {},
     "output_type": "execute_result"
    }
   ],
   "source": [
    "news_classifier.labels()"
   ]
  },
  {
   "cell_type": "code",
   "execution_count": 75,
   "metadata": {},
   "outputs": [
    {
     "name": "stdout",
     "output_type": "stream",
     "text": [
      "['1', '2', '1', '0', '1', '1', '1', '0', '1', '2', '0', '3', '2', '1', '0', '1', '1', '2', '3', '2', '2', '0', '2', '0', '0', '2', '2', '3', '3', '0', '1', '3', '0', '0', '2', '1', '0', '2', '0', '1', '0', '1', '3', '0', '2', '2', '1', '1', '0', '1', '3', '2', '1', '2', '2', '0', '1', '1', '0', '1', '1', '2', '3', '2', '1', '1', '2', '0', '0', '1', '0', '1', '0', '0', '0', '1', '1', '1', '2', '2', '3', '0', '3', '0', '1', '2', '2', '2', '1', '1', '1', '2', '1', '1', '1', '1', '0', '2', '2', '2', '1', '0', '1', '3', '1', '1', '2', '0', '2', '3', '1', '1', '2', '0', '1', '1', '3', '3', '1', '1', '1', '3', '0', '0', '0', '3', '3', '3', '2', '1', '1', '2', '1', '0', '3', '1', '1', '1', '1', '2', '1', '0', '0', '1', '2', '1', '2', '2', '2', '1', '2', '1', '1', '1', '2', '1', '1', '1', '1', '2', '2', '1', '0', '0', '0', '2', '0', '1', '1', '2', '0', '2', '2', '1', '1', '1', '0', '1', '2', '0', '1', '3', '1', '2', '2', '1', '3', '1', '1', '2', '2', '1', '2', '1', '1', '1', '0', '1', '3', '1', '0', '1', '1', '1', '2', '1', '1', '1', '3', '2', '0', '0', '2', '3', '1', '1', '2', '1', '1', '2', '0', '1', '0', '1', '1', '1', '1', '1', '1', '0', '0', '1', '1', '3', '1', '2', '2', '0', '2', '1', '2', '0', '1', '2', '1', '2', '2', '1', '1', '3', '1', '1', '0', '2', '1', '1', '3', '0', '1', '2', '2', '2', '0', '0', '2', '0', '1', '1', '2', '1', '0', '2', '1', '1', '2', '1', '3', '1', '1', '1', '1', '1', '2', '1', '1', '0', '3', '1', '2', '2', '0', '1', '2', '2', '1', '1', '1', '1', '0', '0', '0', '0', '1', '0', '1', '0', '1', '1', '2', '0', '1', '0', '1', '1', '0', '0', '3', '1', '3', '1', '1', '2', '1', '3', '0', '1', '0', '1', '1', '2', '1', '2', '3', '1', '0', '0', '2', '0', '1', '2', '1', '1', '0', '3', '1', '2', '2', '3', '2', '1', '0', '1', '1', '1', '2', '2', '1', '1', '3', '2', '0', '3', '1', '1', '2', '2', '3', '2', '0', '1', '1', '1', '0', '1', '0', '0', '2', '2', '1', '1', '2', '1', '1', '2', '0', '2', '2', '0', '1', '1', '1', '2', '0', '3', '3', '0', '1', '0', '0', '3', '2', '1', '1', '2', '1', '2', '0', '2', '2', '1', '1', '3', '2', '3', '3', '0', '1', '0', '1', '1', '0', '1', '0', '3', '0', '2', '1', '1', '1', '1', '0', '1', '1', '1', '0', '1', '0', '0', '2', '2', '2', '2', '1', '1', '1', '1', '1', '3', '0', '0', '2', '2', '2', '1', '1', '0', '2', '1', '2', '0', '2', '1', '1', '1', '2', '2', '1', '1', '3', '3', '1', '3', '1', '2', '0', '1', '3', '0', '1', '1', '1', '3', '0', '0', '3', '1', '1', '1', '1', '1', '1', '0', '2', '2', '1', '0', '1', '1', '3', '3', '1', '1', '3', '2', '1', '1', '2', '3', '1', '0', '2', '1', '0', '2', '1', '1', '3', '0', '2', '1', '1', '1', '1', '2', '1', '2', '3', '1', '2', '1', '2', '1', '0', '2', '0', '1', '1', '3', '1', '1', '1', '2', '0', '3', '2', '2', '1', '1', '2', '2', '1', '1', '1', '1', '2', '0', '3', '1', '1', '1', '1', '1', '3', '1', '1', '1', '1', '1', '2', '1', '1', '3', '0', '1', '1', '2', '2', '0', '1', '3', '1', '2', '1', '2', '2', '0', '2', '0', '1', '1', '2', '1', '2', '1', '1', '0', '1', '3', '1', '2', '1', '2', '0', '2', '0', '0', '1', '1', '1', '1', '2', '1', '1', '2', '3', '3', '1', '1', '0', '1', '0', '1', '1', '2', '1', '1', '2', '1', '1', '1', '2', '3', '2', '1', '1', '1', '1', '2', '1', '0', '1', '3', '1', '1', '1', '0', '1', '1', '1', '0', '0', '1', '0', '3', '1', '1', '1', '3', '1', '0', '2', '1', '2', '0', '1', '1', '1', '3', '1', '1', '3', '0', '2', '0', '3', '0', '1', '1', '1', '2', '2', '0', '1', '2', '2', '1', '1', '1', '1', '2', '3', '3', '2', '2', '1', '2', '2', '1', '0', '1', '1', '1', '3', '1', '2', '1', '1', '1', '1', '1', '2', '2', '1', '1', '1', '2', '1', '3', '0', '2', '0', '0', '0', '2', '0', '2', '2', '0', '2', '2', '3', '0', '2', '1', '1', '3', '1', '1', '2', '2', '3', '1', '0', '1', '1', '1', '1', '0', '1', '2', '3', '3', '1', '0', '1', '0', '1', '1', '2', '2', '1', '2', '1', '2', '1', '1', '2', '2', '2', '0', '0', '2', '0', '1', '2', '1', '1', '3', '2', '1', '1', '2', '1', '1', '0', '0', '1', '1', '1', '1', '1', '1', '1', '0', '1', '1', '1', '3', '2', '3', '1', '3', '1', '0', '0', '1', '1', '2', '1', '1', '2', '0', '0', '3', '2', '1', '0', '1', '2', '2', '2', '0', '2', '1', '0', '3', '1', '2', '1', '2', '0', '3', '0', '0', '0', '2', '0', '0', '1', '2', '3', '1', '0', '2', '1', '1', '2', '1', '3', '1', '1', '1', '2', '2', '1', '1', '0', '2', '3', '1', '0', '2', '1', '1', '2', '1', '1', '1', '1', '1', '0', '0', '3', '0', '1', '0', '1', '1', '1', '1', '2', '2', '1', '2', '1', '1', '1', '0', '2', '2', '2', '2', '3', '1', '1', '0', '1', '1', '1', '2', '1', '0', '1', '0', '3', '2', '3', '2', '1', '0', '0', '1', '1', '1', '1', '0', '1', '2', '3', '1', '0', '0', '1', '0', '1', '1', '1', '3', '1', '1', '1', '2', '1', '1', '2', '1', '1', '1', '1', '1', '0', '0', '0', '0', '1', '1', '2', '0', '2', '3', '2', '0', '3', '1', '0', '3', '2', '2', '0', '3', '1', '0', '3', '3', '3', '0', '3', '0', '2', '2', '0', '2', '3', '1', '1', '1', '2', '1', '3', '2', '0', '3', '0', '1', '2', '3', '1', '3', '2', '0', '2', '0', '3', '1', '3', '1', '1', '1', '0', '1', '0', '3', '0', '1', '2', '0', '0', '1', '2', '0', '1', '1', '1', '3', '0', '1', '2', '1', '2', '2', '1', '2', '0', '1', '2', '2', '3', '1', '1', '1', '1', '0', '1', '2', '0', '2', '3', '2', '1', '1', '1', '3', '0', '1', '1', '2', '0', '1', '3', '1', '1', '1', '1', '0', '3', '1', '1', '1', '2', '1', '0', '0', '3', '1', '2', '2', '1', '0', '1', '1', '0', '0', '1', '3', '1', '1', '3', '1', '2', '2', '1', '2', '0', '3', '0', '1', '1', '3', '0', '1', '1', '3', '2', '0', '0', '1', '0', '3', '1', '0', '1', '3', '1', '2', '2', '0', '1', '1', '0', '3', '0', '1', '1', '2', '1', '1', '2', '0', '3', '0', '0', '1', '1', '1', '1', '3', '1', '2', '1', '1', '0', '2', '0', '3', '2', '1', '1', '1', '2', '2', '2', '1', '0', '0', '1', '2', '2', '1', '1', '0', '2', '2', '0', '3', '3', '2', '3', '1', '3', '3', '2', '1', '1', '1', '1', '2', '1', '1', '1', '1', '1', '2', '0', '1', '2', '0', '0', '1', '1', '0', '0', '3', '0', '2', '1', '1', '1', '1', '1', '0', '3', '0', '0', '2', '1', '2', '0', '3', '1', '2', '2', '2', '2', '2', '1', '0', '2', '3', '1', '1', '2', '0', '1', '0', '1', '2', '0', '2', '2', '3', '3', '1', '2', '1', '1', '2', '1', '3', '2', '1', '2', '0', '1', '1', '1', '3', '1', '1', '1', '0', '0', '0', '1', '0', '2', '1', '1', '1', '1', '0', '2', '1', '1', '3', '0', '1', '1', '1', '3', '1', '0', '0', '1', '1', '2', '0', '0', '0', '1', '1', '2', '1', '1', '1', '1', '1', '3', '1', '0', '1', '0', '1', '2', '1', '0', '1', '0', '1', '1', '1', '3', '1', '2', '1', '1', '1', '2', '1', '3', '1', '0', '1', '1', '0', '0', '1', '1', '1', '1', '1', '1', '1', '2', '0', '1', '1', '1', '2', '0', '2', '1', '1', '1', '0', '1', '2', '1', '1', '1', '1', '0', '1', '2', '0', '3', '0', '2', '0', '2', '0', '1', '2', '2', '2', '2', '1', '1', '0', '1', '2', '0', '1', '3', '1', '0', '0', '0', '0', '3', '1', '1', '1', '3', '1', '0', '1', '1', '0', '1', '2', '1', '0', '0', '3', '1', '0', '1', '0', '1', '2', '0', '1', '2', '1', '3', '3', '2', '1', '1', '2', '1', '2', '3', '2', '1', '0', '3', '2', '1', '0', '1', '1', '2', '1', '2', '1', '0', '1', '2', '0', '2', '3', '0', '2', '2', '1', '3', '0', '0', '3', '3', '0', '0', '3', '3', '0', '0', '1', '0', '0', '3', '1', '0', '2', '2', '0', '2', '1', '0', '1', '0', '2', '0', '2', '1', '0', '0', '1', '1', '1', '1', '1', '1', '1', '1', '0', '1', '1', '1', '0', '1', '1', '0', '1', '1', '1', '0', '1', '1', '0', '2', '2', '3', '2', '2', '1', '1', '2', '1', '1', '0', '1', '2', '2', '0', '3', '2', '0', '2', '2', '3', '1', '0', '3', '0', '2', '1', '1', '0', '0', '1', '2', '1', '0', '2', '0', '2', '1', '3', '3', '2', '2', '0', '1', '1', '1', '1', '1', '1', '1', '1', '1', '2', '1', '1', '3', '0', '0', '1', '1', '1', '2', '1', '1', '1', '1', '0', '2', '1', '1', '1', '1', '1', '2', '3', '1', '2', '1', '3', '2', '2', '1', '3', '1', '1', '2', '2', '2', '0', '0', '0', '0', '2', '1', '1', '2', '1', '2', '1', '1', '1', '2', '1', '0', '3', '0', '3', '1', '3', '2', '1', '1', '1', '2', '1', '1', '1', '3', '1', '1', '1', '1', '0', '0', '0', '1', '1', '1', '2', '0', '1', '3', '2', '0', '1', '0', '2', '2', '0', '0', '2', '2', '0', '3', '1', '1', '0', '1', '3', '2', '2', '2', '0', '0', '1', '2', '1', '1', '2', '0', '1', '3', '2', '1', '2', '1', '1', '1', '0', '1', '1', '0', '2', '2', '0', '1', '1', '2', '2', '1', '1', '1', '1', '1', '2', '0', '0', '1', '0', '0', '1', '2', '2', '2', '0', '2', '1', '1', '3', '0', '2', '2', '3', '1', '0', '0', '0', '0', '0', '0', '0', '1', '2', '0', '1', '1', '1', '1', '1', '0', '1', '0', '1', '1', '3', '3', '1', '2', '0', '0', '2', '2', '1', '1', '2', '2', '1', '1', '1', '2', '1', '3', '1', '0', '2', '1', '2', '1', '2', '1', '0', '2', '0', '1', '2', '3', '2', '1', '1', '0', '1', '0', '0', '3', '2', '1', '0', '3', '1', '2', '1', '1', '1', '2', '3', '1', '3', '1', '1', '1', '1', '0', '1', '1', '0', '0', '0', '1', '1', '2', '1', '2', '1', '3', '1', '1', '1', '1', '2', '0', '2', '1', '1', '2', '1', '3', '0', '2', '1', '0', '0', '1', '0', '1', '1', '2', '3', '2', '2', '2', '2', '1', '0', '2', '1', '1', '1', '0', '0', '1', '1', '1', '0', '2', '3', '1', '3', '2', '1', '0', '2', '1', '0', '1', '3', '1', '0', '2', '1', '0', '2', '1', '1', '0', '1', '1', '1', '2', '2', '1', '1', '2', '2', '3', '0', '1', '0', '2', '3', '1', '1', '1', '0', '0', '1', '1', '2', '0', '3', '1', '2', '0', '0', '0', '1', '0', '1', '0', '1', '2', '2', '2', '3', '1', '1', '0', '1', '3', '0', '0', '0', '3', '1', '2', '1', '1', '0', '0', '3', '1', '1', '0', '3', '3', '1', '3', '2', '3', '1', '0', '2', '1', '1', '2', '1', '0', '2', '0', '1', '1', '3', '1', '3', '0', '0', '0', '1', '3', '1', '0', '1', '0', '1', '2', '1', '2', '0', '1', '0', '1', '3', '1', '1', '3', '1', '0', '1', '1', '0', '0', '0', '0', '2', '2', '1', '1', '3', '0', '1', '1', '2', '2', '0', '1', '2', '1', '1', '1', '1', '3', '3', '1', '1', '0', '0', '1', '0', '1', '2', '1', '1', '1', '0', '1', '0', '0', '0', '3', '2', '2', '1', '1', '1', '0', '1', '1', '0', '1', '2', '2', '1', '1', '1', '1', '0', '2', '1', '3', '1', '2', '2', '3', '2', '1', '3', '2', '1', '1', '1', '1', '1', '2', '1', '1', '0', '0', '0', '0', '0', '1', '0', '0', '3', '0', '3', '1', '2', '3', '2', '1', '2', '1', '1', '3', '3', '2', '1', '2', '0', '0', '2', '1', '0', '2', '3', '1', '1', '1', '0', '0', '0', '2', '1', '1', '1', '2', '1', '1', '2', '0', '1', '1', '2', '2', '2', '3', '1', '1', '2', '0', '2', '3', '1', '1', '1', '3', '1', '2', '1', '1', '2', '1', '2', '0', '2', '2', '1', '0', '2', '2', '0', '0', '0', '0', '1', '3', '1', '2', '1', '2', '2', '2', '2', '2', '0', '2', '1', '2', '3', '1', '1', '3', '0', '0', '1', '1', '2', '1', '2', '1', '1', '1', '2', '1', '2', '3', '2', '2', '3', '1', '0', '3', '1', '2', '1', '2', '1', '1', '1', '1', '2', '2', '1', '1', '0', '1', '3', '1', '2', '2', '0', '2', '2', '0', '2', '1', '3', '1', '1', '3', '1', '0', '1', '2', '1', '0', '3', '2', '1', '1', '3', '1', '1', '3', '0', '2', '1', '3', '3', '0', '3', '1', '0', '1', '2', '0', '3', '0', '0', '3', '1', '2', '2', '1', '2', '0', '1', '0', '1', '0', '1', '2', '2', '0', '1', '0', '2', '0', '0', '1', '1', '1', '0', '1', '0', '3', '3', '0', '1', '2', '0', '0', '1', '0', '2', '2', '0', '0', '0', '1', '0', '3', '1', '1', '1', '3', '1', '1', '1', '2', '1', '1', '3', '1', '1', '3', '1', '0', '1', '1', '0', '1', '2', '1', '0', '2', '1', '2', '2', '0', '1', '1', '1', '0', '2', '0', '2', '2', '2', '2', '1', '0', '2', '0', '1', '2', '2', '0', '1', '1', '2', '0', '0', '1', '2', '1', '1', '0', '1', '2', '0', '1', '1', '0', '1', '1', '3', '0', '2', '2', '2', '2', '1', '2', '3', '1', '1', '0', '1', '3', '1', '1', '1', '1', '0', '1', '1', '1', '1', '1', '1', '2', '1', '1', '1', '1', '0', '1', '1', '0', '1', '3', '2', '0', '0', '3', '1', '2', '0', '0', '3', '0', '0', '2', '1', '2', '3', '1', '2', '2', '1', '2', '2', '3', '0', '1', '1', '0', '1', '3', '1', '2', '3', '1', '1', '1', '0', '0', '1', '2', '1', '0', '0', '2', '2', '0', '1', '3', '1', '0', '1', '1', '1', '1', '3', '1', '1', '3', '2', '1', '1', '1', '2', '0', '1', '1', '1', '1', '1', '1', '2', '3', '2', '1', '2', '2', '2', '0', '2', '0', '2', '2', '1', '2', '3', '0', '2', '1', '1', '0', '1', '2', '3', '2', '1', '0', '1', '2', '1', '3', '0', '1', '1', '1', '2', '0', '1', '1', '1', '1', '0', '0', '0', '1', '2', '1', '1', '0', '0', '0', '1', '0', '2', '1', '1', '1', '0', '1', '0', '1', '1', '2', '1', '0', '2', '1', '3', '3', '0', '3', '2', '1', '0', '1', '1', '1', '3', '1', '1', '3', '3', '1', '3', '2', '1', '1', '1', '1', '1', '1', '2', '0', '1', '0', '1', '2', '2', '1', '3', '2', '0', '1', '1', '2', '3', '1', '2', '0', '1', '2', '2', '1', '1', '1', '3', '3', '1', '2', '1', '1', '2', '1', '3', '2', '0', '1', '3', '3', '2', '0', '2', '1', '1', '1', '0', '0', '0', '0', '1', '1', '2', '3', '1', '0', '1', '1', '2', '2', '0', '3', '2', '2', '0', '0', '3', '3', '1', '0', '1', '2', '1', '1', '1', '0', '1', '2', '1', '2', '0', '1', '1', '3', '2', '2', '0', '1', '0', '1', '1', '2', '3', '0', '1', '1', '1', '1', '3', '1', '1', '1', '0', '0', '2', '1', '1', '1', '1', '2', '1', '1', '1', '1', '2', '2', '0', '0', '1', '3', '1', '1', '1', '1', '2', '1', '2', '3', '3', '1', '1', '1', '1', '0', '2', '0', '2', '1', '1', '2', '3', '2', '2', '0', '2', '1', '0', '0', '0', '3', '2', '3', '3', '0', '2', '2', '2', '1', '3', '3', '1', '1', '1', '2', '0', '1', '3', '2', '0', '0', '2', '3', '1', '0', '1', '1', '1', '1', '1', '2', '2', '1', '2', '3', '1', '3', '1', '1', '2', '1', '1', '2', '1', '1', '1', '1', '1', '2', '1', '1', '3', '1', '0', '2', '1', '1', '3', '0', '0', '3', '1', '2', '1', '2', '1', '0', '1', '0', '2', '0', '1', '1', '3', '1', '2', '2', '1', '1', '3', '1', '1', '1', '0', '3', '1', '1', '3', '1', '1', '2', '0', '2', '3', '1', '0', '1', '2', '0', '1', '2', '1', '1', '3', '1', '3', '1', '0', '3', '0', '1', '1', '1', '3', '0', '0']\n"
     ]
    }
   ],
   "source": [
    "final=[]\n",
    "for a in range (0,2743):\n",
    " label= news_classifier.classify(newstest_features[a])\n",
    " final.append(label)\n",
    "print(final)"
   ]
  },
  {
   "cell_type": "code",
   "execution_count": 109,
   "metadata": {},
   "outputs": [],
   "source": [
    "value_column=pd.DataFrame({\"SECTION\":final})"
   ]
  },
  {
   "cell_type": "code",
   "execution_count": 110,
   "metadata": {},
   "outputs": [
    {
     "data": {
      "text/html": [
       "<div>\n",
       "<style scoped>\n",
       "    .dataframe tbody tr th:only-of-type {\n",
       "        vertical-align: middle;\n",
       "    }\n",
       "\n",
       "    .dataframe tbody tr th {\n",
       "        vertical-align: top;\n",
       "    }\n",
       "\n",
       "    .dataframe thead th {\n",
       "        text-align: right;\n",
       "    }\n",
       "</style>\n",
       "<table border=\"1\" class=\"dataframe\">\n",
       "  <thead>\n",
       "    <tr style=\"text-align: right;\">\n",
       "      <th></th>\n",
       "      <th>SECTION</th>\n",
       "    </tr>\n",
       "  </thead>\n",
       "  <tbody>\n",
       "    <tr>\n",
       "      <th>0</th>\n",
       "      <td>1</td>\n",
       "    </tr>\n",
       "    <tr>\n",
       "      <th>1</th>\n",
       "      <td>2</td>\n",
       "    </tr>\n",
       "    <tr>\n",
       "      <th>2</th>\n",
       "      <td>1</td>\n",
       "    </tr>\n",
       "    <tr>\n",
       "      <th>3</th>\n",
       "      <td>0</td>\n",
       "    </tr>\n",
       "    <tr>\n",
       "      <th>4</th>\n",
       "      <td>1</td>\n",
       "    </tr>\n",
       "    <tr>\n",
       "      <th>5</th>\n",
       "      <td>1</td>\n",
       "    </tr>\n",
       "    <tr>\n",
       "      <th>6</th>\n",
       "      <td>1</td>\n",
       "    </tr>\n",
       "    <tr>\n",
       "      <th>7</th>\n",
       "      <td>0</td>\n",
       "    </tr>\n",
       "    <tr>\n",
       "      <th>8</th>\n",
       "      <td>1</td>\n",
       "    </tr>\n",
       "    <tr>\n",
       "      <th>9</th>\n",
       "      <td>2</td>\n",
       "    </tr>\n",
       "    <tr>\n",
       "      <th>10</th>\n",
       "      <td>0</td>\n",
       "    </tr>\n",
       "    <tr>\n",
       "      <th>11</th>\n",
       "      <td>3</td>\n",
       "    </tr>\n",
       "    <tr>\n",
       "      <th>12</th>\n",
       "      <td>2</td>\n",
       "    </tr>\n",
       "    <tr>\n",
       "      <th>13</th>\n",
       "      <td>1</td>\n",
       "    </tr>\n",
       "    <tr>\n",
       "      <th>14</th>\n",
       "      <td>0</td>\n",
       "    </tr>\n",
       "    <tr>\n",
       "      <th>15</th>\n",
       "      <td>1</td>\n",
       "    </tr>\n",
       "    <tr>\n",
       "      <th>16</th>\n",
       "      <td>1</td>\n",
       "    </tr>\n",
       "    <tr>\n",
       "      <th>17</th>\n",
       "      <td>2</td>\n",
       "    </tr>\n",
       "    <tr>\n",
       "      <th>18</th>\n",
       "      <td>3</td>\n",
       "    </tr>\n",
       "    <tr>\n",
       "      <th>19</th>\n",
       "      <td>2</td>\n",
       "    </tr>\n",
       "    <tr>\n",
       "      <th>20</th>\n",
       "      <td>2</td>\n",
       "    </tr>\n",
       "    <tr>\n",
       "      <th>21</th>\n",
       "      <td>0</td>\n",
       "    </tr>\n",
       "    <tr>\n",
       "      <th>22</th>\n",
       "      <td>2</td>\n",
       "    </tr>\n",
       "    <tr>\n",
       "      <th>23</th>\n",
       "      <td>0</td>\n",
       "    </tr>\n",
       "    <tr>\n",
       "      <th>24</th>\n",
       "      <td>0</td>\n",
       "    </tr>\n",
       "    <tr>\n",
       "      <th>25</th>\n",
       "      <td>2</td>\n",
       "    </tr>\n",
       "    <tr>\n",
       "      <th>26</th>\n",
       "      <td>2</td>\n",
       "    </tr>\n",
       "    <tr>\n",
       "      <th>27</th>\n",
       "      <td>3</td>\n",
       "    </tr>\n",
       "    <tr>\n",
       "      <th>28</th>\n",
       "      <td>3</td>\n",
       "    </tr>\n",
       "    <tr>\n",
       "      <th>29</th>\n",
       "      <td>0</td>\n",
       "    </tr>\n",
       "    <tr>\n",
       "      <th>...</th>\n",
       "      <td>...</td>\n",
       "    </tr>\n",
       "    <tr>\n",
       "      <th>2713</th>\n",
       "      <td>1</td>\n",
       "    </tr>\n",
       "    <tr>\n",
       "      <th>2714</th>\n",
       "      <td>3</td>\n",
       "    </tr>\n",
       "    <tr>\n",
       "      <th>2715</th>\n",
       "      <td>1</td>\n",
       "    </tr>\n",
       "    <tr>\n",
       "      <th>2716</th>\n",
       "      <td>1</td>\n",
       "    </tr>\n",
       "    <tr>\n",
       "      <th>2717</th>\n",
       "      <td>2</td>\n",
       "    </tr>\n",
       "    <tr>\n",
       "      <th>2718</th>\n",
       "      <td>0</td>\n",
       "    </tr>\n",
       "    <tr>\n",
       "      <th>2719</th>\n",
       "      <td>2</td>\n",
       "    </tr>\n",
       "    <tr>\n",
       "      <th>2720</th>\n",
       "      <td>3</td>\n",
       "    </tr>\n",
       "    <tr>\n",
       "      <th>2721</th>\n",
       "      <td>1</td>\n",
       "    </tr>\n",
       "    <tr>\n",
       "      <th>2722</th>\n",
       "      <td>0</td>\n",
       "    </tr>\n",
       "    <tr>\n",
       "      <th>2723</th>\n",
       "      <td>1</td>\n",
       "    </tr>\n",
       "    <tr>\n",
       "      <th>2724</th>\n",
       "      <td>2</td>\n",
       "    </tr>\n",
       "    <tr>\n",
       "      <th>2725</th>\n",
       "      <td>0</td>\n",
       "    </tr>\n",
       "    <tr>\n",
       "      <th>2726</th>\n",
       "      <td>1</td>\n",
       "    </tr>\n",
       "    <tr>\n",
       "      <th>2727</th>\n",
       "      <td>2</td>\n",
       "    </tr>\n",
       "    <tr>\n",
       "      <th>2728</th>\n",
       "      <td>1</td>\n",
       "    </tr>\n",
       "    <tr>\n",
       "      <th>2729</th>\n",
       "      <td>1</td>\n",
       "    </tr>\n",
       "    <tr>\n",
       "      <th>2730</th>\n",
       "      <td>3</td>\n",
       "    </tr>\n",
       "    <tr>\n",
       "      <th>2731</th>\n",
       "      <td>1</td>\n",
       "    </tr>\n",
       "    <tr>\n",
       "      <th>2732</th>\n",
       "      <td>3</td>\n",
       "    </tr>\n",
       "    <tr>\n",
       "      <th>2733</th>\n",
       "      <td>1</td>\n",
       "    </tr>\n",
       "    <tr>\n",
       "      <th>2734</th>\n",
       "      <td>0</td>\n",
       "    </tr>\n",
       "    <tr>\n",
       "      <th>2735</th>\n",
       "      <td>3</td>\n",
       "    </tr>\n",
       "    <tr>\n",
       "      <th>2736</th>\n",
       "      <td>0</td>\n",
       "    </tr>\n",
       "    <tr>\n",
       "      <th>2737</th>\n",
       "      <td>1</td>\n",
       "    </tr>\n",
       "    <tr>\n",
       "      <th>2738</th>\n",
       "      <td>1</td>\n",
       "    </tr>\n",
       "    <tr>\n",
       "      <th>2739</th>\n",
       "      <td>1</td>\n",
       "    </tr>\n",
       "    <tr>\n",
       "      <th>2740</th>\n",
       "      <td>3</td>\n",
       "    </tr>\n",
       "    <tr>\n",
       "      <th>2741</th>\n",
       "      <td>0</td>\n",
       "    </tr>\n",
       "    <tr>\n",
       "      <th>2742</th>\n",
       "      <td>0</td>\n",
       "    </tr>\n",
       "  </tbody>\n",
       "</table>\n",
       "<p>2743 rows × 1 columns</p>\n",
       "</div>"
      ],
      "text/plain": [
       "     SECTION\n",
       "0          1\n",
       "1          2\n",
       "2          1\n",
       "3          0\n",
       "4          1\n",
       "5          1\n",
       "6          1\n",
       "7          0\n",
       "8          1\n",
       "9          2\n",
       "10         0\n",
       "11         3\n",
       "12         2\n",
       "13         1\n",
       "14         0\n",
       "15         1\n",
       "16         1\n",
       "17         2\n",
       "18         3\n",
       "19         2\n",
       "20         2\n",
       "21         0\n",
       "22         2\n",
       "23         0\n",
       "24         0\n",
       "25         2\n",
       "26         2\n",
       "27         3\n",
       "28         3\n",
       "29         0\n",
       "...      ...\n",
       "2713       1\n",
       "2714       3\n",
       "2715       1\n",
       "2716       1\n",
       "2717       2\n",
       "2718       0\n",
       "2719       2\n",
       "2720       3\n",
       "2721       1\n",
       "2722       0\n",
       "2723       1\n",
       "2724       2\n",
       "2725       0\n",
       "2726       1\n",
       "2727       2\n",
       "2728       1\n",
       "2729       1\n",
       "2730       3\n",
       "2731       1\n",
       "2732       3\n",
       "2733       1\n",
       "2734       0\n",
       "2735       3\n",
       "2736       0\n",
       "2737       1\n",
       "2738       1\n",
       "2739       1\n",
       "2740       3\n",
       "2741       0\n",
       "2742       0\n",
       "\n",
       "[2743 rows x 1 columns]"
      ]
     },
     "execution_count": 110,
     "metadata": {},
     "output_type": "execute_result"
    }
   ],
   "source": [
    "value_column"
   ]
  },
  {
   "cell_type": "code",
   "execution_count": 84,
   "metadata": {},
   "outputs": [
    {
     "data": {
      "text/html": [
       "<div>\n",
       "<style scoped>\n",
       "    .dataframe tbody tr th:only-of-type {\n",
       "        vertical-align: middle;\n",
       "    }\n",
       "\n",
       "    .dataframe tbody tr th {\n",
       "        vertical-align: top;\n",
       "    }\n",
       "\n",
       "    .dataframe thead th {\n",
       "        text-align: right;\n",
       "    }\n",
       "</style>\n",
       "<table border=\"1\" class=\"dataframe\">\n",
       "  <thead>\n",
       "    <tr style=\"text-align: right;\">\n",
       "      <th></th>\n",
       "      <th>STORY</th>\n",
       "    </tr>\n",
       "  </thead>\n",
       "  <tbody>\n",
       "    <tr>\n",
       "      <th>0</th>\n",
       "      <td>2019 will see gadgets like gaming smartphones ...</td>\n",
       "    </tr>\n",
       "    <tr>\n",
       "      <th>1</th>\n",
       "      <td>It has also unleashed a wave of changes in the...</td>\n",
       "    </tr>\n",
       "    <tr>\n",
       "      <th>2</th>\n",
       "      <td>It can be confusing to pick the right smartpho...</td>\n",
       "    </tr>\n",
       "    <tr>\n",
       "      <th>3</th>\n",
       "      <td>The mobile application is integrated with a da...</td>\n",
       "    </tr>\n",
       "    <tr>\n",
       "      <th>4</th>\n",
       "      <td>We have rounded up some of the gadgets that sh...</td>\n",
       "    </tr>\n",
       "  </tbody>\n",
       "</table>\n",
       "</div>"
      ],
      "text/plain": [
       "                                               STORY\n",
       "0  2019 will see gadgets like gaming smartphones ...\n",
       "1  It has also unleashed a wave of changes in the...\n",
       "2  It can be confusing to pick the right smartpho...\n",
       "3  The mobile application is integrated with a da...\n",
       "4  We have rounded up some of the gadgets that sh..."
      ]
     },
     "execution_count": 84,
     "metadata": {},
     "output_type": "execute_result"
    }
   ],
   "source": [
    "news_test.head()"
   ]
  },
  {
   "cell_type": "code",
   "execution_count": 85,
   "metadata": {},
   "outputs": [],
   "source": [
    "joined =pd.concat([news_test,value_column],axis=1,join='inner')"
   ]
  },
  {
   "cell_type": "code",
   "execution_count": 86,
   "metadata": {},
   "outputs": [
    {
     "data": {
      "text/html": [
       "<div>\n",
       "<style scoped>\n",
       "    .dataframe tbody tr th:only-of-type {\n",
       "        vertical-align: middle;\n",
       "    }\n",
       "\n",
       "    .dataframe tbody tr th {\n",
       "        vertical-align: top;\n",
       "    }\n",
       "\n",
       "    .dataframe thead th {\n",
       "        text-align: right;\n",
       "    }\n",
       "</style>\n",
       "<table border=\"1\" class=\"dataframe\">\n",
       "  <thead>\n",
       "    <tr style=\"text-align: right;\">\n",
       "      <th></th>\n",
       "      <th>STORY</th>\n",
       "      <th>0</th>\n",
       "    </tr>\n",
       "  </thead>\n",
       "  <tbody>\n",
       "    <tr>\n",
       "      <th>0</th>\n",
       "      <td>2019 will see gadgets like gaming smartphones ...</td>\n",
       "      <td>1</td>\n",
       "    </tr>\n",
       "    <tr>\n",
       "      <th>1</th>\n",
       "      <td>It has also unleashed a wave of changes in the...</td>\n",
       "      <td>2</td>\n",
       "    </tr>\n",
       "    <tr>\n",
       "      <th>2</th>\n",
       "      <td>It can be confusing to pick the right smartpho...</td>\n",
       "      <td>1</td>\n",
       "    </tr>\n",
       "    <tr>\n",
       "      <th>3</th>\n",
       "      <td>The mobile application is integrated with a da...</td>\n",
       "      <td>0</td>\n",
       "    </tr>\n",
       "    <tr>\n",
       "      <th>4</th>\n",
       "      <td>We have rounded up some of the gadgets that sh...</td>\n",
       "      <td>1</td>\n",
       "    </tr>\n",
       "  </tbody>\n",
       "</table>\n",
       "</div>"
      ],
      "text/plain": [
       "                                               STORY  0\n",
       "0  2019 will see gadgets like gaming smartphones ...  1\n",
       "1  It has also unleashed a wave of changes in the...  2\n",
       "2  It can be confusing to pick the right smartpho...  1\n",
       "3  The mobile application is integrated with a da...  0\n",
       "4  We have rounded up some of the gadgets that sh...  1"
      ]
     },
     "execution_count": 86,
     "metadata": {},
     "output_type": "execute_result"
    }
   ],
   "source": [
    "joined.head()"
   ]
  },
  {
   "cell_type": "code",
   "execution_count": 111,
   "metadata": {},
   "outputs": [
    {
     "data": {
      "text/plain": [
       "Index(['STORY', 0], dtype='object')"
      ]
     },
     "execution_count": 111,
     "metadata": {},
     "output_type": "execute_result"
    }
   ],
   "source": [
    "joined.columns"
   ]
  },
  {
   "cell_type": "code",
   "execution_count": 112,
   "metadata": {},
   "outputs": [],
   "source": [
    "joined.to_excel(\"result.xlsx\")"
   ]
  },
  {
   "cell_type": "code",
   "execution_count": 113,
   "metadata": {},
   "outputs": [],
   "source": [
    "value_column.to_excel(\"submission.xlsx\")\n"
   ]
  },
  {
   "cell_type": "code",
   "execution_count": null,
   "metadata": {},
   "outputs": [],
   "source": []
  }
 ],
 "metadata": {
  "kernelspec": {
   "display_name": "Python 3",
   "language": "python",
   "name": "python3"
  },
  "language_info": {
   "codemirror_mode": {
    "name": "ipython",
    "version": 3
   },
   "file_extension": ".py",
   "mimetype": "text/x-python",
   "name": "python",
   "nbconvert_exporter": "python",
   "pygments_lexer": "ipython3",
   "version": "3.7.3"
  }
 },
 "nbformat": 4,
 "nbformat_minor": 2
}
